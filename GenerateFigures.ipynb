{
 "cells": [
  {
   "cell_type": "markdown",
   "metadata": {},
   "source": [
    "# Timing and expectation of reward: a neuro-computational model of the afferents to the ventral tegmental area"
   ]
  },
  {
   "cell_type": "markdown",
   "metadata": {},
   "source": [
    "Vitay, J. and Hamker, F. (2014) *Frontiers in Neurorobotics* 8(4), doi: 10.3389/fnbot.2014.00004   "
   ]
  },
  {
   "cell_type": "markdown",
   "metadata": {},
   "source": [
    "This iPython notebook allows to interact with the published model and reproduce the main experimental results (on single runs)."
   ]
  },
  {
   "cell_type": "markdown",
   "metadata": {},
   "source": [
    "## 1. Running the simulation"
   ]
  },
  {
   "cell_type": "markdown",
   "metadata": {},
   "source": [
    "### 1.1 Preparing the simulation"
   ]
  },
  {
   "cell_type": "markdown",
   "metadata": {},
   "source": [
    "First we import the definition of the model and create the network:"
   ]
  },
  {
   "cell_type": "code",
   "execution_count": 1,
   "metadata": {
    "collapsed": false
   },
   "outputs": [
    {
     "name": "stdout",
     "output_type": "stream",
     "text": [
      "cannot import name 'CSR' \n",
      "ERROR: Could not import Cython modules. Try reinstalling ANNarchy. \n",
      "ANNarchy 4.5 (4.5.3) on linux (posix). \n"
     ]
    },
    {
     "ename": "NameError",
     "evalue": "name 'CSR' is not defined",
     "output_type": "error",
     "traceback": [
      "\u001b[1;31m---------------------------------------------------------------------------\u001b[0m",
      "\u001b[1;31mNameError\u001b[0m                                 Traceback (most recent call last)",
      "\u001b[1;32m<ipython-input-1-4fb7346edd69>\u001b[0m in \u001b[0;36m<module>\u001b[1;34m()\u001b[0m\n\u001b[0;32m      1\u001b[0m \u001b[1;32mfrom\u001b[0m \u001b[0mANNarchy\u001b[0m \u001b[1;32mimport\u001b[0m \u001b[1;33m*\u001b[0m\u001b[1;33m\u001b[0m\u001b[0m\n\u001b[1;32m----> 2\u001b[1;33m \u001b[1;32mfrom\u001b[0m \u001b[0mTimingNetwork\u001b[0m \u001b[1;32mimport\u001b[0m \u001b[1;33m*\u001b[0m\u001b[1;33m\u001b[0m\u001b[0m\n\u001b[0m\u001b[0;32m      3\u001b[0m \u001b[1;32mfrom\u001b[0m \u001b[0mTrialDefinition\u001b[0m \u001b[1;32mimport\u001b[0m \u001b[1;33m*\u001b[0m\u001b[1;33m\u001b[0m\u001b[0m\n\u001b[0;32m      4\u001b[0m \u001b[1;33m\u001b[0m\u001b[0m\n\u001b[0;32m      5\u001b[0m \u001b[1;31m# Compile the network\u001b[0m\u001b[1;33m\u001b[0m\u001b[1;33m\u001b[0m\u001b[0m\n",
      "\u001b[1;32m/home/vitay/Research/BG-timing/TimingNetwork.py\u001b[0m in \u001b[0;36m<module>\u001b[1;34m()\u001b[0m\n\u001b[0;32m     86\u001b[0m     \u001b[0mpost\u001b[0m \u001b[1;33m=\u001b[0m \u001b[0mIT\u001b[0m\u001b[1;33m,\u001b[0m\u001b[1;33m\u001b[0m\u001b[0m\n\u001b[0;32m     87\u001b[0m     \u001b[0mtarget\u001b[0m \u001b[1;33m=\u001b[0m \u001b[1;34m'exc'\u001b[0m\u001b[1;33m\u001b[0m\u001b[0m\n\u001b[1;32m---> 88\u001b[1;33m ).connect_with_func(method=connect_cluster, weight=1.0, number=3)\n\u001b[0m\u001b[0;32m     89\u001b[0m \u001b[1;33m\u001b[0m\u001b[0m\n\u001b[0;32m     90\u001b[0m \u001b[1;31m# Visual inputs to vmPFC\u001b[0m\u001b[1;33m\u001b[0m\u001b[1;33m\u001b[0m\u001b[0m\n",
      "\u001b[1;32m/home/vitay/Research/ANNarchy/annarchy/ANNarchy/core/Connectors.py\u001b[0m in \u001b[0;36mconnect_with_func\u001b[1;34m(self, method, **args)\u001b[0m\n\u001b[0;32m    256\u001b[0m     \"\"\" \n\u001b[0;32m    257\u001b[0m     \u001b[1;31m# Invoke the method directly, we need the delays already....\u001b[0m\u001b[1;33m\u001b[0m\u001b[1;33m\u001b[0m\u001b[0m\n\u001b[1;32m--> 258\u001b[1;33m     \u001b[0msynapses\u001b[0m \u001b[1;33m=\u001b[0m \u001b[0mmethod\u001b[0m\u001b[1;33m(\u001b[0m\u001b[0mself\u001b[0m\u001b[1;33m.\u001b[0m\u001b[0mpre\u001b[0m\u001b[1;33m,\u001b[0m \u001b[0mself\u001b[0m\u001b[1;33m.\u001b[0m\u001b[0mpost\u001b[0m\u001b[1;33m,\u001b[0m \u001b[1;33m**\u001b[0m\u001b[0margs\u001b[0m\u001b[1;33m)\u001b[0m\u001b[1;33m\u001b[0m\u001b[0m\n\u001b[0m\u001b[0;32m    259\u001b[0m     \u001b[0msynapses\u001b[0m\u001b[1;33m.\u001b[0m\u001b[0mvalidate\u001b[0m\u001b[1;33m(\u001b[0m\u001b[1;33m)\u001b[0m\u001b[1;33m\u001b[0m\u001b[0m\n\u001b[0;32m    260\u001b[0m \u001b[1;33m\u001b[0m\u001b[0m\n",
      "\u001b[1;32m/home/vitay/Research/BG-timing/ConnectorDefinition.py\u001b[0m in \u001b[0;36mconnect_cluster\u001b[1;34m(pre, post, weight, number)\u001b[0m\n\u001b[0;32m      4\u001b[0m \u001b[1;32mdef\u001b[0m \u001b[0mconnect_cluster\u001b[0m\u001b[1;33m(\u001b[0m\u001b[0mpre\u001b[0m\u001b[1;33m,\u001b[0m \u001b[0mpost\u001b[0m\u001b[1;33m,\u001b[0m \u001b[0mweight\u001b[0m\u001b[1;33m,\u001b[0m \u001b[0mnumber\u001b[0m\u001b[1;33m)\u001b[0m\u001b[1;33m:\u001b[0m\u001b[1;33m\u001b[0m\u001b[0m\n\u001b[0;32m      5\u001b[0m     \u001b[1;34m\" Connector to form cluster patterns: each presynaptic neuron contacts exactly `number` different postsynaptic neurons.\"\u001b[0m\u001b[1;33m\u001b[0m\u001b[0m\n\u001b[1;32m----> 6\u001b[1;33m     \u001b[0mmatrix\u001b[0m \u001b[1;33m=\u001b[0m \u001b[0mCSR\u001b[0m\u001b[1;33m(\u001b[0m\u001b[1;33m)\u001b[0m\u001b[1;33m\u001b[0m\u001b[0m\n\u001b[0m\u001b[0;32m      7\u001b[0m \u001b[1;33m\u001b[0m\u001b[0m\n\u001b[0;32m      8\u001b[0m     \u001b[1;31m# Test if there is enough space in the post population to make clusters\u001b[0m\u001b[1;33m\u001b[0m\u001b[1;33m\u001b[0m\u001b[0m\n",
      "\u001b[1;31mNameError\u001b[0m: name 'CSR' is not defined"
     ]
    }
   ],
   "source": [
    "from ANNarchy import *\n",
    "from TimingNetwork import *\n",
    "from TrialDefinition import *\n",
    "\n",
    "# Compile the network\n",
    "compile()"
   ]
  },
  {
   "cell_type": "markdown",
   "metadata": {},
   "source": [
    "Before running the simulation, we have to define the populations which will be recorded:"
   ]
  },
  {
   "cell_type": "code",
   "execution_count": null,
   "metadata": {
    "collapsed": false
   },
   "outputs": [],
   "source": [
    "recorded_areas = {VTA: 'r',\n",
    "                  BLA: 'r',\n",
    "                  CE: 'r',\n",
    "                  NAcc: ['r', 'mp', 'g_mod', 's'],\n",
    "                  PPTN_US: 'r',\n",
    "                  PPTN_CS: 'r',\n",
    "                  VP: 'r',\n",
    "                  LHb: 'r',\n",
    "                  RMTg: 'r',\n",
    "                  LH: 'r',\n",
    "                  VIS: 'r' }"
   ]
  },
  {
   "cell_type": "markdown",
   "metadata": {},
   "source": [
    "### 1.2 Sensitization phase"
   ]
  },
  {
   "cell_type": "markdown",
   "metadata": {},
   "source": [
    "In this first phase, we present the three US alone to build the LH -> BLA connections. Learning in this pathway is disabled at the end."
   ]
  },
  {
   "cell_type": "code",
   "execution_count": null,
   "metadata": {
    "collapsed": false
   },
   "outputs": [],
   "source": [
    "# Definition of the individual US\n",
    "sensitization_setup = [\n",
    "    {'GUS': np.array([1., 1., 0., 0.]), 'duration': 500},\n",
    "    {'GUS': np.array([1., 0., 1., 0.]), 'duration': 500},\n",
    "    {'GUS': np.array([0., 0., 1., 1.]), 'duration': 500}\n",
    "]\n",
    "# Perform 10 sensitization trials per US\n",
    "for trial in range(10):\n",
    "    sensitization_trial(sensitization_setup)\n",
    "# Stop learning in the LH->BLA pathway\n",
    "LH_BLA.eta = 1000000.0 "
   ]
  },
  {
   "cell_type": "markdown",
   "metadata": {},
   "source": [
    "### 1.3 Conditioning phase"
   ]
  },
  {
   "cell_type": "markdown",
   "metadata": {},
   "source": [
    "Once the US are known by the system. we can start the conditioning phase with the three CS defined in the paper."
   ]
  },
  {
   "cell_type": "code",
   "execution_count": null,
   "metadata": {
    "collapsed": false
   },
   "outputs": [],
   "source": [
    "# Definition of the CS-US associations\n",
    "conditioning_setup = [\n",
    "    {'GUS': np.array([1., 1., 0., 0.]), 'VIS': np.array([1., 0., 0.]), 'magnitude': 0.8, 'duration': 2000},\n",
    "    {'GUS': np.array([1., 0., 1., 0.]), 'VIS': np.array([0., 1., 0.]), 'magnitude': 0.5, 'duration': 3000},\n",
    "    {'GUS': np.array([0., 0., 1., 1.]), 'VIS': np.array([0., 0., 1.]), 'magnitude': 1.0, 'duration': 4000}\n",
    "]"
   ]
  },
  {
   "cell_type": "markdown",
   "metadata": {},
   "source": [
    "We will record activity during the 10 trials:"
   ]
  },
  {
   "cell_type": "code",
   "execution_count": null,
   "metadata": {
    "collapsed": false
   },
   "outputs": [],
   "source": [
    "recordings = []\n",
    "for trial in range(10):\n",
    "    start_record(recorded_areas) # Tell the network which population to record\n",
    "    conditioning_trial(conditioning_setup) # Perform one conditioning trial\n",
    "    recordings.append(get_record(recorded_areas)) # Save the recordings"
   ]
  },
  {
   "cell_type": "markdown",
   "metadata": {},
   "source": [
    "### 1.4 Omission trials"
   ]
  },
  {
   "cell_type": "markdown",
   "metadata": {},
   "source": [
    "Once conditioning is complete, we omit reward to observe the response of DA cells:"
   ]
  },
  {
   "cell_type": "code",
   "execution_count": null,
   "metadata": {
    "collapsed": false
   },
   "outputs": [],
   "source": [
    "start_record(recorded_areas)\n",
    "omission_trial(conditioning_setup)\n",
    "recordings.append(get_record(recorded_areas))"
   ]
  },
  {
   "cell_type": "markdown",
   "metadata": {},
   "source": [
    "### 1.5 Early trials"
   ]
  },
  {
   "cell_type": "markdown",
   "metadata": {},
   "source": [
    "Last, we deliver reward 1s earlier than expected:"
   ]
  },
  {
   "cell_type": "code",
   "execution_count": null,
   "metadata": {
    "collapsed": false
   },
   "outputs": [],
   "source": [
    "start_record(recorded_areas)\n",
    "earlier_trial(conditioning_setup)\n",
    "recordings.append(get_record(recorded_areas))"
   ]
  },
  {
   "cell_type": "markdown",
   "metadata": {},
   "source": [
    "## 2. Results"
   ]
  },
  {
   "cell_type": "code",
   "execution_count": null,
   "metadata": {
    "collapsed": false
   },
   "outputs": [],
   "source": [
    "import pylab as plt\n",
    "%matplotlib inline"
   ]
  },
  {
   "cell_type": "markdown",
   "metadata": {},
   "source": [
    "### 2.1 Conditioning in the amygdala (Fig. 4)"
   ]
  },
  {
   "cell_type": "markdown",
   "metadata": {},
   "source": [
    "We extract the maximal firing rate in BLA during the first and last conditioning trials for the three stimuli."
   ]
  },
  {
   "cell_type": "code",
   "execution_count": null,
   "metadata": {
    "collapsed": false
   },
   "outputs": [],
   "source": [
    "BLA_trial1 = np.max(recordings[0][BLA]['r']['data'], axis=0)\n",
    "BLA_trial10 = np.max(recordings[9][BLA]['r']['data'], axis=0)"
   ]
  },
  {
   "cell_type": "code",
   "execution_count": null,
   "metadata": {
    "collapsed": false
   },
   "outputs": [],
   "source": [
    "plt.figure(figsize=(10,6))\n",
    "# Trial 1\n",
    "ax = plt.subplot2grid((2,3),(0, 0))\n",
    "ax.plot(BLA_trial1[:5000])\n",
    "ax.set_title('CS1 - US1')\n",
    "ax.set_ylabel('Trial 1')\n",
    "ax.set_ylim([0.0, 1.2])\n",
    "ax = plt.subplot2grid((2,3),(0, 1))\n",
    "ax.plot(BLA_trial1[5000:11000])\n",
    "ax.set_title('CS2 - US2')\n",
    "ax.set_ylim([0.0, 1.2])\n",
    "ax = plt.subplot2grid((2,3),(0, 2))\n",
    "ax.plot(BLA_trial1[11000:18000])\n",
    "ax.set_ylim([0.0, 1.2])\n",
    "ax.set_title('CS3 - US3')\n",
    "# Trial 10\n",
    "ax = plt.subplot2grid((2,3),(1, 0))\n",
    "ax.plot(BLA_trial10[:5000])\n",
    "ax.set_ylabel('Trial 10')\n",
    "ax.set_xlabel('Time (ms)')\n",
    "ax.set_ylim([0.0, 1.2])\n",
    "ax = plt.subplot2grid((2,3),(1, 1))\n",
    "ax.plot(BLA_trial10[5000:11000])\n",
    "ax.set_xlabel('Time (ms)')\n",
    "ax.set_ylim([0.0, 1.2])\n",
    "ax = plt.subplot2grid((2,3),(1, 2))\n",
    "ax.plot(BLA_trial10[11000:18000])\n",
    "ax.set_xlabel('Time (ms)')\n",
    "ax.set_ylim([0.0, 1.2])\n",
    "plt.show()"
   ]
  },
  {
   "cell_type": "markdown",
   "metadata": {},
   "source": [
    "### 2.2 Timecourse of the activity of the VTA cell during conditioning (Fig. 5)"
   ]
  },
  {
   "cell_type": "code",
   "execution_count": null,
   "metadata": {
    "collapsed": false
   },
   "outputs": [],
   "source": [
    "VTA_trial1 = recordings[0][VTA]['r']['data'][0]\n",
    "VTA_trial5 = recordings[4][VTA]['r']['data'][0]\n",
    "VTA_trial10 = recordings[9][VTA]['r']['data'][0]\n",
    "VTA_omit = recordings[10][VTA]['r']['data'][0]\n",
    "VTA_sooner = recordings[11][VTA]['r']['data'][0]"
   ]
  },
  {
   "cell_type": "code",
   "execution_count": null,
   "metadata": {
    "collapsed": false
   },
   "outputs": [],
   "source": [
    "plt.figure(figsize=(12,10))\n",
    "# Trial 1\n",
    "ax = plt.subplot2grid((5,3),(0, 0))\n",
    "ax.plot(VTA_trial1[:5000])\n",
    "ax.set_title('CS1 - US1')\n",
    "ax.set_ylabel('Trial 1')\n",
    "ax.set_ylim([0.0, 1.2])\n",
    "ax = plt.subplot2grid((5,3),(0, 1))\n",
    "ax.plot(VTA_trial1[5000:11000])\n",
    "ax.set_title('CS2 - US2')\n",
    "ax.set_ylim([0.0, 1.2])\n",
    "ax = plt.subplot2grid((5,3),(0, 2))\n",
    "ax.plot(VTA_trial1[11000:18000])\n",
    "ax.set_ylim([0.0, 1.2])\n",
    "ax.set_title('CS3 - US3')\n",
    "# Trial 5\n",
    "ax = plt.subplot2grid((5,3),(1, 0))\n",
    "ax.plot(VTA_trial5[:5000])\n",
    "ax.set_ylabel('Trial 5')\n",
    "ax.set_ylim([0.0, 1.2])\n",
    "ax = plt.subplot2grid((5,3),(1, 1))\n",
    "ax.plot(VTA_trial5[5000:11000])\n",
    "ax.set_ylim([0.0, 1.2])\n",
    "ax = plt.subplot2grid((5,3),(1, 2))\n",
    "ax.plot(VTA_trial5[11000:18000])\n",
    "ax.set_ylim([0.0, 1.2])\n",
    "# Trial 10\n",
    "ax = plt.subplot2grid((5,3),(2, 0))\n",
    "ax.plot(VTA_trial10[:5000])\n",
    "ax.set_ylabel('Trial 5')\n",
    "ax.set_ylim([0.0, 1.2])\n",
    "ax = plt.subplot2grid((5,3),(2, 1))\n",
    "ax.plot(VTA_trial10[5000:11000])\n",
    "ax.set_ylim([0.0, 1.2])\n",
    "ax = plt.subplot2grid((5,3),(2, 2))\n",
    "ax.plot(VTA_trial10[11000:18000])\n",
    "ax.set_ylim([0.0, 1.2])\n",
    "# Omission\n",
    "ax = plt.subplot2grid((5,3),(3, 0))\n",
    "ax.plot(VTA_omit[:5000])\n",
    "ax.set_ylabel('Reward omission')\n",
    "ax.set_ylim([0.0, 1.2])\n",
    "ax = plt.subplot2grid((5,3),(3, 1))\n",
    "ax.plot(VTA_omit[5000:11000])\n",
    "ax.set_ylim([0.0, 1.2])\n",
    "ax = plt.subplot2grid((5,3),(3, 2))\n",
    "ax.plot(VTA_omit[11000:18000])\n",
    "ax.set_ylim([0.0, 1.2])\n",
    "# Earlier\n",
    "ax = plt.subplot2grid((5,3),(4, 0))\n",
    "ax.plot(VTA_sooner[:5000])\n",
    "ax.set_ylabel('Earlier delivery')\n",
    "ax.set_ylim([0.0, 1.2])\n",
    "ax.set_xlabel('Time (ms)')\n",
    "ax = plt.subplot2grid((5,3),(4, 1))\n",
    "ax.plot(VTA_sooner[5000:11000])\n",
    "ax.set_ylim([0.0, 1.2])\n",
    "ax.set_xlabel('Time (ms)')\n",
    "ax = plt.subplot2grid((5,3),(4, 2))\n",
    "ax.plot(VTA_sooner[11000:18000])\n",
    "ax.set_ylim([0.0, 1.2])\n",
    "ax.set_xlabel('Time (ms)')\n",
    "plt.show()"
   ]
  },
  {
   "cell_type": "markdown",
   "metadata": {},
   "source": [
    "### 2.3 Evolution of the maximal activity in VTA during conditioning (Fig. 6)"
   ]
  },
  {
   "cell_type": "markdown",
   "metadata": {},
   "source": [
    "For this figure, we need to extract the maximal activity in VTA during each conditioning trial around CS and US onset:"
   ]
  },
  {
   "cell_type": "code",
   "execution_count": null,
   "metadata": {
    "collapsed": false
   },
   "outputs": [],
   "source": [
    "CS1 = slice(900,1100)\n",
    "US1 = slice(2900, 3100)\n",
    "CS2 = slice(5900, 6100)\n",
    "US2 = slice(8900, 9100)\n",
    "CS3 = slice(11900, 12100)\n",
    "US3 = slice(15900, 16100)"
   ]
  },
  {
   "cell_type": "code",
   "execution_count": null,
   "metadata": {
    "collapsed": false
   },
   "outputs": [],
   "source": [
    "VTA_CS1 = []; VTA_CS2 = []; VTA_CS3 = []; VTA_US1 = []; VTA_US2 = []; VTA_US3 = []\n",
    "for trial in range(10):\n",
    "    VTA_CS1.append(np.max( recordings[trial][VTA]['r']['data'][0][CS1]))\n",
    "    VTA_CS2.append(np.max( recordings[trial][VTA]['r']['data'][0][CS2]))\n",
    "    VTA_CS3.append(np.max( recordings[trial][VTA]['r']['data'][0][CS3]))\n",
    "    VTA_US1.append(np.max( recordings[trial][VTA]['r']['data'][0][US1]))\n",
    "    VTA_US2.append(np.max( recordings[trial][VTA]['r']['data'][0][US2]))\n",
    "    VTA_US3.append(np.max( recordings[trial][VTA]['r']['data'][0][US3]))\n"
   ]
  },
  {
   "cell_type": "code",
   "execution_count": null,
   "metadata": {
    "collapsed": false
   },
   "outputs": [],
   "source": [
    "plt.figure(figsize=(12,4))\n",
    "# CS1 - US1 \n",
    "ax = plt.subplot2grid((1,3),(0, 0))\n",
    "ax.plot(VTA_CS1)\n",
    "ax.plot(VTA_US1)\n",
    "ax.set_xlabel('# Trials')\n",
    "ax.set_ylabel('Burst amplitude')\n",
    "ax.set_title('CS1 - US1')\n",
    "ax.set_ylim([0.2, 1.1])\n",
    "# CS2 - US2 \n",
    "ax = plt.subplot2grid((1,3),(0, 1))\n",
    "ax.plot(VTA_CS2)\n",
    "ax.plot(VTA_US2)\n",
    "ax.set_title('CS2 - US2')\n",
    "ax.set_xlabel('# Trials')\n",
    "ax.set_ylim([0.2, 1.1])\n",
    "# CS3 - US3 \n",
    "ax = plt.subplot2grid((1,3),(0, 2))\n",
    "ax.plot(VTA_CS3)\n",
    "ax.plot(VTA_US3)\n",
    "ax.set_title('CS3 - US3')\n",
    "ax.set_xlabel('# Trials')\n",
    "ax.set_ylim([0.2, 1.1])\n",
    "\n",
    "plt.show()"
   ]
  },
  {
   "cell_type": "markdown",
   "metadata": {},
   "source": [
    "### 2.4 Timecourse of the internal variables of a single NAcc neuron during a reward omission trial (Fig. 8)"
   ]
  },
  {
   "cell_type": "markdown",
   "metadata": {},
   "source": [
    "For this figure, we record different internal variables of the cell in NAcc maximally responding to the CS1-US1 interval in the reward omission condition. "
   ]
  },
  {
   "cell_type": "code",
   "execution_count": null,
   "metadata": {
    "collapsed": false
   },
   "outputs": [],
   "source": [
    "NAcc_rates = recordings[10][NAcc]['r']['data']\n",
    "active_cell = 0; max_rate = 0.0\n",
    "for cell in range(NAcc.size):\n",
    "    if np.max(NAcc_rates[cell][:5000]) > max_rate:\n",
    "        max_rate = np.max(NAcc_rates[cell][:5000])\n",
    "        active_cell = cell\n",
    "NAcc_mp = recordings[10][NAcc]['mp']['data'][active_cell][:5000]\n",
    "NAcc_s = recordings[10][NAcc]['s']['data'][active_cell][:5000]*0.5 - 0.8\n",
    "NAcc_vmpfc = recordings[10][NAcc]['g_mod']['data'][active_cell][:5000]"
   ]
  },
  {
   "cell_type": "code",
   "execution_count": null,
   "metadata": {
    "collapsed": false
   },
   "outputs": [],
   "source": [
    "plt.figure(figsize=(10,8))\n",
    "plt.plot(NAcc_mp, label='membrane potential')\n",
    "plt.plot(NAcc_s, label = 'up/down-state')\n",
    "plt.plot(NAcc_vmpfc, label='cortical input')\n",
    "plt.ylim([-2.0, 1.5])\n",
    "plt.xlabel('Time (ms)')\n",
    "plt.legend(loc=2, frameon=False)\n",
    "plt.show()"
   ]
  },
  {
   "cell_type": "markdown",
   "metadata": {},
   "source": [
    "### 2.5 Timecourse of activity in different areas of the model (Fig. 10)"
   ]
  },
  {
   "cell_type": "markdown",
   "metadata": {},
   "source": [
    "This figures shows the timecourse activity of different populations during the last conditioning trial and the first omission trial for CS1-US1."
   ]
  },
  {
   "cell_type": "code",
   "execution_count": null,
   "metadata": {
    "collapsed": false
   },
   "outputs": [],
   "source": [
    "plt.figure(figsize=(16,16))\n",
    "# Conditioning trial\n",
    "ax = plt.subplot2grid((8,2),(0, 0))\n",
    "ax.plot(recordings[9][VIS]['r']['data'][0][:5000]) # TODO: inputs\n",
    "ax.set_title('Conditioning trial')\n",
    "ax.set_ylabel('Inputs')\n",
    "ax.set_ylim([0.0, 1.2])\n",
    "ax = plt.subplot2grid((8,2),(1, 0))\n",
    "ax.plot(recordings[9][VTA]['r']['data'][0][:5000])\n",
    "ax.set_ylabel('VTA')\n",
    "ax.set_ylim([0.0, 1.2])\n",
    "ax = plt.subplot2grid((8,2),(2, 0))\n",
    "ax.plot(recordings[9][CE]['r']['data'][0][:5000])\n",
    "ax.set_ylabel('CE')\n",
    "ax.set_ylim([0.0, 1.2])\n",
    "ax = plt.subplot2grid((8,2),(3, 0))\n",
    "ax.plot(recordings[9][PPTN_US]['r']['data'][0][:5000])\n",
    "ax.plot(recordings[9][PPTN_CS]['r']['data'][0][:5000])\n",
    "ax.set_ylabel('PPTN')\n",
    "ax.set_ylim([0.0, 1.2])\n",
    "ax = plt.subplot2grid((8,2),(4, 0))\n",
    "ax.plot(recordings[9][NAcc]['r']['data'][active_cell][:5000])\n",
    "ax.set_ylabel('NAcc')\n",
    "ax.set_ylim([0.0, 1.2])\n",
    "ax = plt.subplot2grid((8,2),(5, 0))\n",
    "ax.plot(recordings[9][VP]['r']['data'][0][:5000])\n",
    "ax.set_ylabel('VP')\n",
    "ax.set_ylim([0.0, 1.2])\n",
    "ax = plt.subplot2grid((8,2),(6, 0))\n",
    "ax.plot(recordings[9][LHb]['r']['data'][0][:5000])\n",
    "ax.set_ylabel('LHb')\n",
    "ax.set_ylim([0.0, 1.2])\n",
    "ax = plt.subplot2grid((8,2),(7, 0))\n",
    "ax.plot(recordings[9][RMTg]['r']['data'][0][:5000])\n",
    "ax.set_ylabel('RMTg')\n",
    "ax.set_ylim([0.0, 1.2])\n",
    "ax.set_xlabel('Time (ms)')\n",
    "# Omission trial\n",
    "ax = plt.subplot2grid((8,2),(0, 1))\n",
    "ax.plot(recordings[10][VIS]['r']['data'][0][:5000]) # TODO: inputs\n",
    "ax.set_title('Omission trial')\n",
    "ax.set_ylim([0.0, 1.2])\n",
    "ax = plt.subplot2grid((8,2),(1, 1))\n",
    "ax.plot(recordings[10][VTA]['r']['data'][0][:5000])\n",
    "ax.set_ylim([0.0, 1.2])\n",
    "ax = plt.subplot2grid((8,2),(2, 1))\n",
    "ax.plot(recordings[10][CE]['r']['data'][0][:5000])\n",
    "ax.set_ylim([0.0, 1.2])\n",
    "ax = plt.subplot2grid((8,2),(3, 1))\n",
    "ax.plot(recordings[10][PPTN_US]['r']['data'][0][:5000])\n",
    "ax.plot(recordings[10][PPTN_CS]['r']['data'][0][:5000])\n",
    "ax.set_ylim([0.0, 1.2])\n",
    "ax = plt.subplot2grid((8,2),(4, 1))\n",
    "ax.plot(recordings[10][NAcc]['r']['data'][active_cell][:5000])\n",
    "ax.set_ylim([0.0, 1.2])\n",
    "ax = plt.subplot2grid((8,2),(5, 1))\n",
    "ax.plot(recordings[10][VP]['r']['data'][0][:5000])\n",
    "ax.set_ylim([0.0, 1.2])\n",
    "ax = plt.subplot2grid((8,2),(6, 1))\n",
    "ax.plot(recordings[10][LHb]['r']['data'][0][:5000])\n",
    "ax.set_ylim([0.0, 1.2])\n",
    "ax = plt.subplot2grid((8,2),(7, 1))\n",
    "ax.plot(recordings[10][RMTg]['r']['data'][0][:5000])\n",
    "ax.set_ylim([0.0, 1.2])\n",
    "ax.set_xlabel('Time (ms)')\n",
    "\n",
    "plt.show()"
   ]
  },
  {
   "cell_type": "code",
   "execution_count": null,
   "metadata": {
    "collapsed": false
   },
   "outputs": [],
   "source": []
  }
 ],
 "metadata": {
  "kernelspec": {
   "display_name": "Python 3",
   "language": "python",
   "name": "python3"
  },
  "language_info": {
   "codemirror_mode": {
    "name": "ipython",
    "version": 3
   },
   "file_extension": ".py",
   "mimetype": "text/x-python",
   "name": "python",
   "nbconvert_exporter": "python",
   "pygments_lexer": "ipython3",
   "version": "3.5.0"
  }
 },
 "nbformat": 4,
 "nbformat_minor": 0
}
